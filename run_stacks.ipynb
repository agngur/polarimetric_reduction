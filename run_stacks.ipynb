{
 "cells": [
  {
   "cell_type": "code",
   "execution_count": 1,
   "metadata": {
    "collapsed": false,
    "scrolled": true
   },
   "outputs": [
    {
     "name": "stdout",
     "output_type": "stream",
     "text": [
      "hello\n",
      "KEEEP True /home/agngur/Dokumenty/survey/test/2017-06-09/.temp.pysexcat\n",
      "KEEEP True /home/agngur/Dokumenty/survey/test/2017-06-09/2457914_154312+853514_001_P1-5_red.pysexcat\n",
      "KEEEP True /home/agngur/Dokumenty/survey/test/2017-06-09/2457914_154312+853514_002_P1-5_red.pysexcat\n",
      "2457914_154312+853514_001_P1-5_red : Rotation   -0.000000 [deg], scale 1.000000, flux ratio 1.0\n",
      "2457914_154312+853514_002_P1-5_red : Rotation   -0.003037 [deg], scale 1.000089, flux ratio 1.0017049356729248\n",
      "Image shape of .temp : (1024, 1024)\n",
      "Reading 2457914_154312+853514_001_P1-5_red.fit ...\n",
      "FITS import (1024, 1024) BITPIX -32 / float32\n",
      "FITS export (1024, 1024) float32 ...\n",
      "Wrote /home/agngur/Dokumenty/survey/test/2017-06-09/2457914_154312+853514_001_P1-5_red.fit\n",
      "Reading 2457914_154312+853514_002_P1-5_red.fit ...\n",
      "FITS import (1024, 1024) BITPIX -32 / float32\n",
      "FITS export (1024, 1024) float32 ...\n",
      "Wrote /home/agngur/Dokumenty/survey/test/2017-06-09/2457914_154312+853514_002_P1-5_red.fit\n",
      "KEEEP True /home/agngur/Dokumenty/survey/test/2017-06-09/.temp.pysexcat\n",
      "KEEEP True /home/agngur/Dokumenty/survey/test/2017-06-09/2457914_154312+853514_001_P2-5_red.pysexcat\n",
      "KEEEP True /home/agngur/Dokumenty/survey/test/2017-06-09/2457914_154312+853514_002_P2-5_red.pysexcat\n",
      "KEEEP True /home/agngur/Dokumenty/survey/test/2017-06-09/2457914_154312+853514_003_P2-5_red.pysexcat\n",
      "2457914_154312+853514_001_P2-5_red : Rotation   -0.000000 [deg], scale 1.000000, flux ratio 1.0\n",
      "2457914_154312+853514_002_P2-5_red : Rotation   +0.000378 [deg], scale 0.999996, flux ratio 1.0065794314633842\n",
      "2457914_154312+853514_003_P2-5_red : Rotation   -0.000110 [deg], scale 1.000000, flux ratio 1.0172093762638172\n",
      "Image shape of .temp : (1024, 1024)\n",
      "Reading 2457914_154312+853514_001_P2-5_red.fit ...\n",
      "FITS import (1024, 1024) BITPIX -32 / float32\n",
      "FITS export (1024, 1024) float32 ...\n",
      "Wrote /home/agngur/Dokumenty/survey/test/2017-06-09/2457914_154312+853514_001_P2-5_red.fit\n",
      "Reading 2457914_154312+853514_002_P2-5_red.fit ...\n",
      "FITS import (1024, 1024) BITPIX -32 / float32\n",
      "FITS export (1024, 1024) float32 ...\n",
      "Wrote /home/agngur/Dokumenty/survey/test/2017-06-09/2457914_154312+853514_002_P2-5_red.fit\n",
      "Reading 2457914_154312+853514_003_P2-5_red.fit ...\n",
      "FITS import (1024, 1024) BITPIX -32 / float32\n",
      "FITS export (1024, 1024) float32 ...\n",
      "Wrote /home/agngur/Dokumenty/survey/test/2017-06-09/2457914_154312+853514_003_P2-5_red.fit\n",
      "KEEEP True /home/agngur/Dokumenty/survey/test/2017-06-09/.temp.pysexcat\n",
      "KEEEP True /home/agngur/Dokumenty/survey/test/2017-06-09/2457914_154312+853514_001_P3-5_red.pysexcat\n",
      "KEEEP True /home/agngur/Dokumenty/survey/test/2017-06-09/2457914_154312+853514_002_P3-5_red.pysexcat\n",
      "KEEEP True /home/agngur/Dokumenty/survey/test/2017-06-09/2457914_154312+853514_003_P3-5_red.pysexcat\n",
      "2457914_154312+853514_001_P3-5_red : Rotation   +0.000000 [deg], scale 1.000000, flux ratio 1.0\n",
      "2457914_154312+853514_002_P3-5_red : Rotation   -0.000658 [deg], scale 1.000056, flux ratio 0.9943093069562716\n",
      "2457914_154312+853514_003_P3-5_red : Rotation   +0.000067 [deg], scale 1.000009, flux ratio 0.9903279848606412\n",
      "Image shape of .temp : (1024, 1024)\n",
      "Reading 2457914_154312+853514_001_P3-5_red.fit ...\n",
      "FITS import (1024, 1024) BITPIX -32 / float32\n",
      "FITS export (1024, 1024) float32 ...\n",
      "Wrote /home/agngur/Dokumenty/survey/test/2017-06-09/2457914_154312+853514_001_P3-5_red.fit\n",
      "Reading 2457914_154312+853514_002_P3-5_red.fit ...\n",
      "FITS import (1024, 1024) BITPIX -32 / float32\n",
      "FITS export (1024, 1024) float32 ...\n",
      "Wrote /home/agngur/Dokumenty/survey/test/2017-06-09/2457914_154312+853514_002_P3-5_red.fit\n",
      "Reading 2457914_154312+853514_003_P3-5_red.fit ...\n",
      "FITS import (1024, 1024) BITPIX -32 / float32\n",
      "FITS export (1024, 1024) float32 ...\n",
      "Wrote /home/agngur/Dokumenty/survey/test/2017-06-09/2457914_154312+853514_003_P3-5_red.fit\n",
      "KEEEP True /home/agngur/Dokumenty/survey/test/2017-06-09/.temp.pysexcat\n",
      "KEEEP True /home/agngur/Dokumenty/survey/test/2017-06-09/2457914_154312+853514_001_P4-5_red.pysexcat\n",
      "KEEEP True /home/agngur/Dokumenty/survey/test/2017-06-09/2457914_154312+853514_002_P4-5_red.pysexcat\n",
      "KEEEP True /home/agngur/Dokumenty/survey/test/2017-06-09/2457914_154312+853514_003_P4-5_red.pysexcat\n",
      "2457914_154312+853514_001_P4-5_red : Rotation   +0.000000 [deg], scale 1.000000, flux ratio 1.0\n",
      "2457914_154312+853514_002_P4-5_red : Rotation   +0.000797 [deg], scale 0.999983, flux ratio 1.00965401414734\n",
      "2457914_154312+853514_003_P4-5_red : Rotation   -0.001430 [deg], scale 1.000013, flux ratio 1.0032966273591617\n",
      "Image shape of .temp : (1024, 1024)\n",
      "Reading 2457914_154312+853514_001_P4-5_red.fit ...\n",
      "FITS import (1024, 1024) BITPIX -32 / float32\n",
      "FITS export (1024, 1024) float32 ...\n",
      "Wrote /home/agngur/Dokumenty/survey/test/2017-06-09/2457914_154312+853514_001_P4-5_red.fit\n",
      "Reading 2457914_154312+853514_002_P4-5_red.fit ...\n",
      "FITS import (1024, 1024) BITPIX -32 / float32\n",
      "FITS export (1024, 1024) float32 ...\n",
      "Wrote /home/agngur/Dokumenty/survey/test/2017-06-09/2457914_154312+853514_002_P4-5_red.fit\n",
      "Reading 2457914_154312+853514_003_P4-5_red.fit ...\n",
      "FITS import (1024, 1024) BITPIX -32 / float32\n",
      "FITS export (1024, 1024) float32 ...\n",
      "Wrote /home/agngur/Dokumenty/survey/test/2017-06-09/2457914_154312+853514_003_P4-5_red.fit\n",
      "images ['/home/agngur/Dokumenty/survey/test/2017-06-09/2457914_154312+853514_002_P1-5_red.fit', '/home/agngur/Dokumenty/survey/test/2017-06-09/2457914_154312+853514_001_P1-5_red.fit']\n",
      "INFO: using the unit adu passed to the FITS reader instead of the unit adu in the FITS file. [ccdproc.ccddata]\n",
      "INFO: using the unit adu passed to the FITS reader instead of the unit adu in the FITS file. [ccdproc.ccddata]\n"
     ]
    },
    {
     "name": "stderr",
     "output_type": "stream",
     "text": [
      "WARNING: FITSFixedWarning: RADECSYS= 'FK5 ' / Equatorial coordinate system \n",
      "the RADECSYS keyword is deprecated, use RADESYSa. [astropy.wcs.wcs]\n"
     ]
    },
    {
     "name": "stdout",
     "output_type": "stream",
     "text": [
      "5.0\n",
      "-30.184629750000003\n",
      "2457914.354189815\n",
      "1.23647695294\n",
      "2457914_154312+853514_P1_5.fit\n",
      "images ['/home/agngur/Dokumenty/survey/test/2017-06-09/2457914_154312+853514_002_P2-5_red.fit', '/home/agngur/Dokumenty/survey/test/2017-06-09/2457914_154312+853514_001_P2-5_red.fit']\n",
      "INFO: using the unit adu passed to the FITS reader instead of the unit adu in the FITS file. [ccdproc.ccddata]\n",
      "INFO: using the unit adu passed to the FITS reader instead of the unit adu in the FITS file. [ccdproc.ccddata]\n"
     ]
    },
    {
     "name": "stderr",
     "output_type": "stream",
     "text": [
      "WARNING: VerifyWarning: Verification reported errors: [astropy.io.fits.verify]\n",
      "WARNING: VerifyWarning: HDU 0: [astropy.io.fits.verify]\n",
      "WARNING: VerifyWarning:     'SIMPLE' card does not exist.  Fixed by inserting a new 'SIMPLE' card. [astropy.io.fits.verify]\n",
      "WARNING: VerifyWarning:     'BITPIX' card at the wrong place (card 2).  Fixed by moving it to the right place (card 1). [astropy.io.fits.verify]\n",
      "WARNING: VerifyWarning:     'NAXIS' card at the wrong place (card 3).  Fixed by moving it to the right place (card 2). [astropy.io.fits.verify]\n",
      "WARNING: VerifyWarning:     'NAXIS1' card at the wrong place (card 4).  Fixed by moving it to the right place (card 3). [astropy.io.fits.verify]\n",
      "WARNING: VerifyWarning:     'NAXIS2' card at the wrong place (card 5).  Fixed by moving it to the right place (card 4). [astropy.io.fits.verify]\n",
      "WARNING: VerifyWarning: Note: astropy.io.fits uses zero-based indexing.\n",
      " [astropy.io.fits.verify]\n"
     ]
    },
    {
     "name": "stdout",
     "output_type": "stream",
     "text": [
      "5.0\n",
      "-30.209775750000002\n",
      "2457914.3545833332\n",
      "1.2364449669305062\n",
      "2457914_154312+853514_P2_5.fit\n",
      "images ['/home/agngur/Dokumenty/survey/test/2017-06-09/2457914_154312+853514_002_P3-5_red.fit', '/home/agngur/Dokumenty/survey/test/2017-06-09/2457914_154312+853514_001_P3-5_red.fit']\n",
      "INFO: using the unit adu passed to the FITS reader instead of the unit adu in the FITS file. [ccdproc.ccddata]\n",
      "INFO: using the unit adu passed to the FITS reader instead of the unit adu in the FITS file. [ccdproc.ccddata]\n",
      "5.0\n",
      "-29.926883250000003\n",
      "2457914.3547222223\n",
      "1.2364327514392524\n",
      "2457914_154312+853514_P3_5.fit\n",
      "images ['/home/agngur/Dokumenty/survey/test/2017-06-09/2457914_154312+853514_002_P4-5_red.fit', '/home/agngur/Dokumenty/survey/test/2017-06-09/2457914_154312+853514_001_P4-5_red.fit']\n",
      "INFO: using the unit adu passed to the FITS reader instead of the unit adu in the FITS file. [ccdproc.ccddata]\n",
      "INFO: using the unit adu passed to the FITS reader instead of the unit adu in the FITS file. [ccdproc.ccddata]\n",
      "5.0\n",
      "-30.106048500000004\n",
      "2457914.354849537\n",
      "1.2364235913816992\n",
      "2457914_154312+853514_P4_5.fit\n",
      "KEEEP True /home/agngur/Dokumenty/survey/test/2017-06-09/stacked_fieldss/.temp.pysexcat\n",
      "KEEEP True /home/agngur/Dokumenty/survey/test/2017-06-09/stacked_fieldss/2457914_154312+853514_P1_5.pysexcat\n",
      "KEEEP True /home/agngur/Dokumenty/survey/test/2017-06-09/stacked_fieldss/2457914_154312+853514_P2_5.pysexcat\n",
      "KEEEP True /home/agngur/Dokumenty/survey/test/2017-06-09/stacked_fieldss/2457914_154312+853514_P3_5.pysexcat\n",
      "KEEEP True /home/agngur/Dokumenty/survey/test/2017-06-09/stacked_fieldss/2457914_154312+853514_P4_5.pysexcat\n",
      "2457914_154312+853514_P1_5 : Rotation   +0.000000 [deg], scale 1.000000, flux ratio 1.0\n",
      "2457914_154312+853514_P2_5 : Rotation   +0.013090 [deg], scale 0.999993, flux ratio 1.0128364928350375\n",
      "2457914_154312+853514_P3_5 : Rotation   +0.021071 [deg], scale 0.999994, flux ratio 1.0054137095304518\n",
      "2457914_154312+853514_P4_5 : Rotation   +0.020432 [deg], scale 1.000139, flux ratio 1.0114442441306097\n",
      "Image shape of .temp : (1024, 1024)\n",
      "Reading 2457914_154312+853514_P1_5.fit ...\n",
      "FITS import (1024, 1024) BITPIX -32 / float32\n",
      "FITS export (1024, 1024) float32 ...\n",
      "Wrote /home/agngur/Dokumenty/survey/test/2017-06-09/stacked_fieldss/2457914_154312+853514_P1_5.fit\n",
      "Reading 2457914_154312+853514_P2_5.fit ...\n",
      "FITS import (1024, 1024) BITPIX -32 / float32\n",
      "FITS export (1024, 1024) float32 ...\n",
      "Wrote /home/agngur/Dokumenty/survey/test/2017-06-09/stacked_fieldss/2457914_154312+853514_P2_5.fit\n",
      "Reading 2457914_154312+853514_P3_5.fit ...\n",
      "FITS import (1024, 1024) BITPIX -32 / float32\n",
      "FITS export (1024, 1024) float32 ...\n",
      "Wrote /home/agngur/Dokumenty/survey/test/2017-06-09/stacked_fieldss/2457914_154312+853514_P3_5.fit\n",
      "Reading 2457914_154312+853514_P4_5.fit ...\n",
      "FITS import (1024, 1024) BITPIX -32 / float32\n",
      "FITS export (1024, 1024) float32 ...\n",
      "Wrote /home/agngur/Dokumenty/survey/test/2017-06-09/stacked_fieldss/2457914_154312+853514_P4_5.fit\n"
     ]
    }
   ],
   "source": [
    "%load_ext autoreload\n",
    "%autoreload 2\n",
    "from stacks import prepare_stack\n",
    "import datetime as dt\n",
    "\n",
    "\n",
    "prepare_stack(main_dir='/home/agngur/Dokumenty/survey/test',\n",
    "              save_dir='/home/agngur/Dokumenty/survey/test/2017-06-09/stacked_fieldss/',\n",
    "              hdr_keys='/home/agngur/polarimetric_reduction/polarimetric_reduction/hdr_key.txt',\n",
    "              start_date=dt.datetime(2017, 6, 9),\\\n",
    "              end_date=dt.datetime(2020, 6, 10), exps=[5])\n"
   ]
  },
  {
   "cell_type": "code",
   "execution_count": null,
   "metadata": {
    "collapsed": false
   },
   "outputs": [],
   "source": [
    "import glob\n",
    "import os\n"
   ]
  },
  {
   "cell_type": "code",
   "execution_count": null,
   "metadata": {
    "collapsed": false
   },
   "outputs": [],
   "source": [
    "9*60+44"
   ]
  },
  {
   "cell_type": "code",
   "execution_count": null,
   "metadata": {
    "collapsed": false
   },
   "outputs": [],
   "source": [
    "main_dir='/home/agngur/Dokumenty/survey/2017-06-09/'\n",
    "images = glob.glob(main_dir+'*_red.fit')\n",
    "images"
   ]
  },
  {
   "cell_type": "code",
   "execution_count": null,
   "metadata": {
    "collapsed": true
   },
   "outputs": [],
   "source": []
  }
 ],
 "metadata": {
  "anaconda-cloud": {},
  "kernelspec": {
   "display_name": "Python [conda env:ag]",
   "language": "python",
   "name": "conda-env-ag-py"
  },
  "language_info": {
   "codemirror_mode": {
    "name": "ipython",
    "version": 3
   },
   "file_extension": ".py",
   "mimetype": "text/x-python",
   "name": "python",
   "nbconvert_exporter": "python",
   "pygments_lexer": "ipython3",
   "version": "3.6.0"
  }
 },
 "nbformat": 4,
 "nbformat_minor": 2
}
