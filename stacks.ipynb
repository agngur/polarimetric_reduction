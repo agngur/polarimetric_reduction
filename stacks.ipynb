{
 "cells": [
  {
   "cell_type": "code",
   "execution_count": 1,
   "metadata": {
    "collapsed": false
   },
   "outputs": [],
   "source": [
    "%load_ext autoreload\n",
    "%autoreload 2\n",
    "from astropy import units as u\n",
    "from astropy.coordinates import SkyCoord\n",
    "import astropy.io.fits as fits\n",
    "import alipy\n",
    "import numpy as np\n",
    "import os\n",
    "import glob\n",
    "import datetime as dt\n",
    "import processimages as pim\n",
    "!cd /home/pi/DATA/astro/suhora/pol_survey"
   ]
  },
  {
   "cell_type": "code",
   "execution_count": 2,
   "metadata": {
    "collapsed": false
   },
   "outputs": [],
   "source": [
    "def create_im_list(main_dir, start_date, end_date, ext='*red.fit'):\n",
    "    container = []\n",
    "    for root, dirs, files in os.walk(main_dir, topdown=False):\n",
    "        for name in dirs:\n",
    "            folder_root_name = os.path.join(root, name)\n",
    "            # format w zaleznosci od systemu\n",
    "            # folder_name = folder_root_name.split('\\\\')[-1]\n",
    "            folder_name = folder_root_name.split('/')[-1]\n",
    "            try:\n",
    "                f_date = dt.datetime.strptime(folder_name, '%Y-%m-%d')\n",
    "                if (f_date >= start_date and f_date <= end_date):\n",
    "                    folder_content = sorted(glob.glob(\n",
    "                        os.path.join(folder_root_name, ext)))\n",
    "                    if len(folder_content) > 0:\n",
    "                        container.append([folder_root_name, folder_content])\n",
    "            except ValueError:\n",
    "                pass\n",
    "            \n",
    "    return container\n",
    "\n",
    "\n",
    "def select_exp(pack, exp, files_ext):\n",
    "    express = ''.join(['-', str(exp), files_ext])\n",
    "\n",
    "    return list((filter(lambda im: express in im, pack)))\n",
    "\n",
    "def select_filter(pack, fil):\n",
    "    \n",
    "    return list(filter(lambda im: fil in im, pack))\n",
    "\n",
    "def create_coo_boxes(filter_pack, radius, unit):\n",
    "    \n",
    "    radius = radius * getattr(u, unit)\n",
    "    images_fields = []\n",
    "    grouped_fields = []\n",
    "    \n",
    "    for im in filter_pack:\n",
    "        im_name = os.path.basename(im)\n",
    "        # tutaj trzeba uwazac jezeli zmieni sie format nazwy\n",
    "        im_field = im_name.split('_')[1]\n",
    "        \n",
    "        if '+' in im_field:\n",
    "            im_ra, im_dec = im_field.split('+')\n",
    "        elif '-' in im_field:\n",
    "            im_ra, im_dec = im_field.split('-')\n",
    "        else:\n",
    "            print('Something wrong with coordinates format in im name')\n",
    "            break\n",
    "            \n",
    "        # one line, slightly complicated solution for change HHMMSS to HH:MM:SS \n",
    "        im_ra = ':'.join(list(map(''.join, zip(*[iter(im_ra)]*2))))\n",
    "        im_dec = ':'.join(list(map(''.join, zip(*[iter(im_dec)]*2))))\n",
    "        im_field = SkyCoord(ra=im_ra, dec=im_dec, unit=(u.hourangle, u.deg))\n",
    "        images_fields.append([im, im_field])\n",
    "        \n",
    "    for im_field in images_fields:\n",
    "        group = [f[0] for f in images_fields if f[1].separation(im_field[1]) < radius]\n",
    "        if len(group) > 0: grouped_fields.append(group)\n",
    "        images_fields = [f for f in images_fields if f[0] not in group]\n",
    "        \n",
    "    return grouped_fields"
   ]
  },
  {
   "cell_type": "code",
   "execution_count": 3,
   "metadata": {
    "collapsed": false,
    "scrolled": true
   },
   "outputs": [],
   "source": [
    "# create_im_list('/home/pi/DATA/astro/suhora/pol_survey/', dt.datetime(2015, 1, 1), dt.datetime(2020, 12, 31))"
   ]
  },
  {
   "cell_type": "code",
   "execution_count": 4,
   "metadata": {
    "collapsed": false
   },
   "outputs": [],
   "source": [
    "def prepare_stack(main_dir, save_dir, start_date, end_date, files_ext='_red.fit',\n",
    "                  ext='*red.fit', exps=[5, 60], \n",
    "                  filters=['P1', 'P2', 'P3', 'P4'], \n",
    "                  radius=4, unit='deg'):\n",
    "    try:\n",
    "        os.mkdir(save_dir)\n",
    "    except FileExistsError:\n",
    "        pass\n",
    "    \n",
    "    container = create_im_list(main_dir, start_date, \n",
    "                               end_date, ext='*red.fit')\n",
    "    \n",
    "    for pack_date, pack in container:\n",
    "        for exp in exps:\n",
    "            selected_exp = select_exp(pack, exp, files_ext)\n",
    "            if selected_exp:\n",
    "                stacked_images = []\n",
    "                for filter_name in filters:\n",
    "                    filter_pack = select_filter(selected_exp, filter_name)\n",
    "                    coo_boxes = create_coo_boxes(filter_pack, radius, unit)\n",
    "                    for coo_box in coo_boxes:\n",
    "                        pim.align_images(coo_box)\n",
    "                        stacked_image = pim.make_stack(coo_box, save_dir, exp, filter_name)\n",
    "                        stacked_images.append(stacked_image)\n",
    "                        pim.align_images(stacked_images)"
   ]
  },
  {
   "cell_type": "code",
   "execution_count": null,
   "metadata": {
    "collapsed": false
   },
   "outputs": [],
   "source": [
    "prepare_stack(main_dir='/home/pi/DATA/astro/suhora/pol_survey/',\n",
    "              save_dir='/home/pi/DATA/astro/suhora/pol_survey/stacked_fields/',\n",
    "              start_date=dt.datetime(2010, 1, 1),\n",
    "              end_date=dt.datetime(2020, 12, 31))"
   ]
  },
  {
   "cell_type": "code",
   "execution_count": null,
   "metadata": {
    "collapsed": true
   },
   "outputs": [],
   "source": []
  }
 ],
 "metadata": {
  "anaconda-cloud": {},
  "kernelspec": {
   "display_name": "Python [conda env:astro]",
   "language": "python",
   "name": "conda-env-astro-py"
  },
  "language_info": {
   "codemirror_mode": {
    "name": "ipython",
    "version": 3
   },
   "file_extension": ".py",
   "mimetype": "text/x-python",
   "name": "python",
   "nbconvert_exporter": "python",
   "pygments_lexer": "ipython3",
   "version": "3.5.2"
  }
 },
 "nbformat": 4,
 "nbformat_minor": 1
}
