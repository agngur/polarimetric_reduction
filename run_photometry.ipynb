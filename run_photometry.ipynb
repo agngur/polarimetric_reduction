{
 "cells": [
  {
   "cell_type": "code",
   "execution_count": 94,
   "metadata": {
    "collapsed": false
   },
   "outputs": [
    {
     "name": "stdout",
     "output_type": "stream",
     "text": [
      "The autoreload extension is already loaded. To reload it, use:\n",
      "  %reload_ext autoreload\n"
     ]
    }
   ],
   "source": [
    "%load_ext autoreload\n",
    "%autoreload 2\n",
    "from photometry import make_photometry, prepare_catalog"
   ]
  },
  {
   "cell_type": "code",
   "execution_count": 95,
   "metadata": {
    "collapsed": false,
    "scrolled": true
   },
   "outputs": [],
   "source": [
    "work_dir = '/home/agngur/Dokumenty/survey/2017-09-28/stacked_fields/'\n",
    "make_photometry(work_dir, exps=[5], DETECT_THRESH=30, ANALYSIS_THRESH=30)"
   ]
  },
  {
   "cell_type": "code",
   "execution_count": 90,
   "metadata": {
    "collapsed": false
   },
   "outputs": [],
   "source": [
    "prepare_catalog(work_dir)\n"
   ]
  },
  {
   "cell_type": "code",
   "execution_count": null,
   "metadata": {
    "collapsed": true
   },
   "outputs": [],
   "source": [
    "import os \n",
    "from astropy\n",
    "\n",
    "try:\n",
    "    #os.mkdir(work_dir+'ftmt_'+DETECT_THRESH)\n",
    "    os.mkdir(work_dir+'ftmt_'+'100')\n",
    "except FileExistsError:\n",
    "    pass\n",
    "\n",
    "for f in files: \n",
    "    os.rename(work_dir[:-1], work_dir[:-1]+'ftmt_'+'100')"
   ]
  },
  {
   "cell_type": "code",
   "execution_count": null,
   "metadata": {},
   "outputs": [],
   "source": []
  },
  {
   "cell_type": "code",
   "execution_count": null,
   "metadata": {},
   "outputs": [],
   "source": []
  }
 ],
 "metadata": {
  "anaconda-cloud": {},
  "kernelspec": {
   "display_name": "Python [conda env:ag]",
   "language": "python",
   "name": "conda-env-ag-py"
  },
  "language_info": {
   "codemirror_mode": {
    "name": "ipython",
    "version": 3
   },
   "file_extension": ".py",
   "mimetype": "text/x-python",
   "name": "python",
   "nbconvert_exporter": "python",
   "pygments_lexer": "ipython3",
   "version": "3.6.0"
  }
 },
 "nbformat": 4,
 "nbformat_minor": 2
}
