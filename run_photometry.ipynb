{
 "cells": [
  {
   "cell_type": "code",
   "execution_count": 1,
   "metadata": {
    "collapsed": false
   },
   "outputs": [],
   "source": [
    "%load_ext autoreload\n",
    "%autoreload 2\n",
    "from photometry import make_photometry"
   ]
  },
  {
   "cell_type": "code",
   "execution_count": 7,
   "metadata": {
    "collapsed": false,
    "scrolled": true
   },
   "outputs": [
    {
     "name": "stdout",
     "output_type": "stream",
     "text": [
      "sextractor /home/agngur/Dokumenty/survey/2017-04-01/stacked_fields/2457845_080447+175004_P1_5.fit,/home/agngur/Dokumenty/survey/2017-04-01/stacked_fields/2457845_080447+175004_P1_5.fit -c .pysex.sex -VERBOSE_TYPE QUIET -BACKPHOTO_TYPE GLOBAL -DETECT_THRESH 100 -ANALYSIS_THRESH 150 -GAIN 1.0 -CLEAN Y -SATUR_LEVEL 60000.0 -ASSOC_DATA 1,2,3 -ASSOC_TYPE NEAREST -ASSOCSELEC_TYPE MATCHED -CATALOG_NAME .pysex.cat -PARAMETERS_NAME .pysex.param -FILTER_NAME .pysex.conv -STARNNW_NAME .pysex.nnw\n",
      "sextractor /home/agngur/Dokumenty/survey/2017-04-01/stacked_fields/2457845_080447+175004_P1_5.fit,/home/agngur/Dokumenty/survey/2017-04-01/stacked_fields/2457845_080447+175004_P2_5.fit -c .pysex.sex -VERBOSE_TYPE QUIET -BACKPHOTO_TYPE GLOBAL -DETECT_THRESH 100 -ANALYSIS_THRESH 150 -GAIN 1.0 -CLEAN Y -SATUR_LEVEL 60000.0 -ASSOC_DATA 1,2,3 -ASSOC_TYPE NEAREST -ASSOCSELEC_TYPE MATCHED -CATALOG_NAME .pysex.cat -PARAMETERS_NAME .pysex.param -FILTER_NAME .pysex.conv -STARNNW_NAME .pysex.nnw\n",
      "sextractor /home/agngur/Dokumenty/survey/2017-04-01/stacked_fields/2457845_080447+175004_P1_5.fit,/home/agngur/Dokumenty/survey/2017-04-01/stacked_fields/2457845_080447+175004_P3_5.fit -c .pysex.sex -VERBOSE_TYPE QUIET -BACKPHOTO_TYPE GLOBAL -DETECT_THRESH 100 -ANALYSIS_THRESH 150 -GAIN 1.0 -CLEAN Y -SATUR_LEVEL 60000.0 -ASSOC_DATA 1,2,3 -ASSOC_TYPE NEAREST -ASSOCSELEC_TYPE MATCHED -CATALOG_NAME .pysex.cat -PARAMETERS_NAME .pysex.param -FILTER_NAME .pysex.conv -STARNNW_NAME .pysex.nnw\n",
      "sextractor /home/agngur/Dokumenty/survey/2017-04-01/stacked_fields/2457845_080447+175004_P1_5.fit,/home/agngur/Dokumenty/survey/2017-04-01/stacked_fields/2457845_080447+175004_P4_5.fit -c .pysex.sex -VERBOSE_TYPE QUIET -BACKPHOTO_TYPE GLOBAL -DETECT_THRESH 100 -ANALYSIS_THRESH 150 -GAIN 1.0 -CLEAN Y -SATUR_LEVEL 60000.0 -ASSOC_DATA 1,2,3 -ASSOC_TYPE NEAREST -ASSOCSELEC_TYPE MATCHED -CATALOG_NAME .pysex.cat -PARAMETERS_NAME .pysex.param -FILTER_NAME .pysex.conv -STARNNW_NAME .pysex.nnw\n",
      "sextractor /home/agngur/Dokumenty/survey/2017-04-01/stacked_fields/2457845_084121+173641_P1_5.fit,/home/agngur/Dokumenty/survey/2017-04-01/stacked_fields/2457845_084121+173641_P1_5.fit -c .pysex.sex -VERBOSE_TYPE QUIET -BACKPHOTO_TYPE GLOBAL -DETECT_THRESH 100 -ANALYSIS_THRESH 150 -GAIN 1.0 -CLEAN Y -SATUR_LEVEL 60000.0 -ASSOC_DATA 1,2,3 -ASSOC_TYPE NEAREST -ASSOCSELEC_TYPE MATCHED -CATALOG_NAME .pysex.cat -PARAMETERS_NAME .pysex.param -FILTER_NAME .pysex.conv -STARNNW_NAME .pysex.nnw\n",
      "sextractor /home/agngur/Dokumenty/survey/2017-04-01/stacked_fields/2457845_084121+173641_P1_5.fit,/home/agngur/Dokumenty/survey/2017-04-01/stacked_fields/2457845_084121+173641_P2_5.fit -c .pysex.sex -VERBOSE_TYPE QUIET -BACKPHOTO_TYPE GLOBAL -DETECT_THRESH 100 -ANALYSIS_THRESH 150 -GAIN 1.0 -CLEAN Y -SATUR_LEVEL 60000.0 -ASSOC_DATA 1,2,3 -ASSOC_TYPE NEAREST -ASSOCSELEC_TYPE MATCHED -CATALOG_NAME .pysex.cat -PARAMETERS_NAME .pysex.param -FILTER_NAME .pysex.conv -STARNNW_NAME .pysex.nnw\n",
      "sextractor /home/agngur/Dokumenty/survey/2017-04-01/stacked_fields/2457845_084121+173641_P1_5.fit,/home/agngur/Dokumenty/survey/2017-04-01/stacked_fields/2457845_084121+173641_P3_5.fit -c .pysex.sex -VERBOSE_TYPE QUIET -BACKPHOTO_TYPE GLOBAL -DETECT_THRESH 100 -ANALYSIS_THRESH 150 -GAIN 1.0 -CLEAN Y -SATUR_LEVEL 60000.0 -ASSOC_DATA 1,2,3 -ASSOC_TYPE NEAREST -ASSOCSELEC_TYPE MATCHED -CATALOG_NAME .pysex.cat -PARAMETERS_NAME .pysex.param -FILTER_NAME .pysex.conv -STARNNW_NAME .pysex.nnw\n",
      "sextractor /home/agngur/Dokumenty/survey/2017-04-01/stacked_fields/2457845_084121+173641_P1_5.fit,/home/agngur/Dokumenty/survey/2017-04-01/stacked_fields/2457845_084121+173641_P4_5.fit -c .pysex.sex -VERBOSE_TYPE QUIET -BACKPHOTO_TYPE GLOBAL -DETECT_THRESH 100 -ANALYSIS_THRESH 150 -GAIN 1.0 -CLEAN Y -SATUR_LEVEL 60000.0 -ASSOC_DATA 1,2,3 -ASSOC_TYPE NEAREST -ASSOCSELEC_TYPE MATCHED -CATALOG_NAME .pysex.cat -PARAMETERS_NAME .pysex.param -FILTER_NAME .pysex.conv -STARNNW_NAME .pysex.nnw\n",
      "sextractor /home/agngur/Dokumenty/survey/2017-04-01/stacked_fields/2457845_084154+175004_P1_5.fit,/home/agngur/Dokumenty/survey/2017-04-01/stacked_fields/2457845_084154+175004_P1_5.fit -c .pysex.sex -VERBOSE_TYPE QUIET -BACKPHOTO_TYPE GLOBAL -DETECT_THRESH 100 -ANALYSIS_THRESH 150 -GAIN 1.0 -CLEAN Y -SATUR_LEVEL 60000.0 -ASSOC_DATA 1,2,3 -ASSOC_TYPE NEAREST -ASSOCSELEC_TYPE MATCHED -CATALOG_NAME .pysex.cat -PARAMETERS_NAME .pysex.param -FILTER_NAME .pysex.conv -STARNNW_NAME .pysex.nnw\n",
      "sextractor /home/agngur/Dokumenty/survey/2017-04-01/stacked_fields/2457845_084154+175004_P1_5.fit,/home/agngur/Dokumenty/survey/2017-04-01/stacked_fields/2457845_084154+175004_P2_5.fit -c .pysex.sex -VERBOSE_TYPE QUIET -BACKPHOTO_TYPE GLOBAL -DETECT_THRESH 100 -ANALYSIS_THRESH 150 -GAIN 1.0 -CLEAN Y -SATUR_LEVEL 60000.0 -ASSOC_DATA 1,2,3 -ASSOC_TYPE NEAREST -ASSOCSELEC_TYPE MATCHED -CATALOG_NAME .pysex.cat -PARAMETERS_NAME .pysex.param -FILTER_NAME .pysex.conv -STARNNW_NAME .pysex.nnw\n",
      "sextractor /home/agngur/Dokumenty/survey/2017-04-01/stacked_fields/2457845_084154+175004_P1_5.fit,/home/agngur/Dokumenty/survey/2017-04-01/stacked_fields/2457845_084154+175004_P3_5.fit -c .pysex.sex -VERBOSE_TYPE QUIET -BACKPHOTO_TYPE GLOBAL -DETECT_THRESH 100 -ANALYSIS_THRESH 150 -GAIN 1.0 -CLEAN Y -SATUR_LEVEL 60000.0 -ASSOC_DATA 1,2,3 -ASSOC_TYPE NEAREST -ASSOCSELEC_TYPE MATCHED -CATALOG_NAME .pysex.cat -PARAMETERS_NAME .pysex.param -FILTER_NAME .pysex.conv -STARNNW_NAME .pysex.nnw\n",
      "sextractor /home/agngur/Dokumenty/survey/2017-04-01/stacked_fields/2457845_084154+175004_P1_5.fit,/home/agngur/Dokumenty/survey/2017-04-01/stacked_fields/2457845_084154+175004_P4_5.fit -c .pysex.sex -VERBOSE_TYPE QUIET -BACKPHOTO_TYPE GLOBAL -DETECT_THRESH 100 -ANALYSIS_THRESH 150 -GAIN 1.0 -CLEAN Y -SATUR_LEVEL 60000.0 -ASSOC_DATA 1,2,3 -ASSOC_TYPE NEAREST -ASSOCSELEC_TYPE MATCHED -CATALOG_NAME .pysex.cat -PARAMETERS_NAME .pysex.param -FILTER_NAME .pysex.conv -STARNNW_NAME .pysex.nnw\n",
      "sextractor /home/agngur/Dokumenty/survey/2017-04-01/stacked_fields/2457845_092148+172409_P1_5.fit,/home/agngur/Dokumenty/survey/2017-04-01/stacked_fields/2457845_092148+172409_P1_5.fit -c .pysex.sex -VERBOSE_TYPE QUIET -BACKPHOTO_TYPE GLOBAL -DETECT_THRESH 100 -ANALYSIS_THRESH 150 -GAIN 1.0 -CLEAN Y -SATUR_LEVEL 60000.0 -ASSOC_DATA 1,2,3 -ASSOC_TYPE NEAREST -ASSOCSELEC_TYPE MATCHED -CATALOG_NAME .pysex.cat -PARAMETERS_NAME .pysex.param -FILTER_NAME .pysex.conv -STARNNW_NAME .pysex.nnw\n",
      "sextractor /home/agngur/Dokumenty/survey/2017-04-01/stacked_fields/2457845_092148+172409_P1_5.fit,/home/agngur/Dokumenty/survey/2017-04-01/stacked_fields/2457845_092148+172409_P2_5.fit -c .pysex.sex -VERBOSE_TYPE QUIET -BACKPHOTO_TYPE GLOBAL -DETECT_THRESH 100 -ANALYSIS_THRESH 150 -GAIN 1.0 -CLEAN Y -SATUR_LEVEL 60000.0 -ASSOC_DATA 1,2,3 -ASSOC_TYPE NEAREST -ASSOCSELEC_TYPE MATCHED -CATALOG_NAME .pysex.cat -PARAMETERS_NAME .pysex.param -FILTER_NAME .pysex.conv -STARNNW_NAME .pysex.nnw\n",
      "sextractor /home/agngur/Dokumenty/survey/2017-04-01/stacked_fields/2457845_092148+172409_P1_5.fit,/home/agngur/Dokumenty/survey/2017-04-01/stacked_fields/2457845_092148+172409_P3_5.fit -c .pysex.sex -VERBOSE_TYPE QUIET -BACKPHOTO_TYPE GLOBAL -DETECT_THRESH 100 -ANALYSIS_THRESH 150 -GAIN 1.0 -CLEAN Y -SATUR_LEVEL 60000.0 -ASSOC_DATA 1,2,3 -ASSOC_TYPE NEAREST -ASSOCSELEC_TYPE MATCHED -CATALOG_NAME .pysex.cat -PARAMETERS_NAME .pysex.param -FILTER_NAME .pysex.conv -STARNNW_NAME .pysex.nnw\n",
      "sextractor /home/agngur/Dokumenty/survey/2017-04-01/stacked_fields/2457845_092148+172409_P1_5.fit,/home/agngur/Dokumenty/survey/2017-04-01/stacked_fields/2457845_092148+172409_P4_5.fit -c .pysex.sex -VERBOSE_TYPE QUIET -BACKPHOTO_TYPE GLOBAL -DETECT_THRESH 100 -ANALYSIS_THRESH 150 -GAIN 1.0 -CLEAN Y -SATUR_LEVEL 60000.0 -ASSOC_DATA 1,2,3 -ASSOC_TYPE NEAREST -ASSOCSELEC_TYPE MATCHED -CATALOG_NAME .pysex.cat -PARAMETERS_NAME .pysex.param -FILTER_NAME .pysex.conv -STARNNW_NAME .pysex.nnw\n",
      "sextractor /home/agngur/Dokumenty/survey/2017-04-01/stacked_fields/2457845_095836+171035_P1_5.fit,/home/agngur/Dokumenty/survey/2017-04-01/stacked_fields/2457845_095836+171035_P1_5.fit -c .pysex.sex -VERBOSE_TYPE QUIET -BACKPHOTO_TYPE GLOBAL -DETECT_THRESH 100 -ANALYSIS_THRESH 150 -GAIN 1.0 -CLEAN Y -SATUR_LEVEL 60000.0 -ASSOC_DATA 1,2,3 -ASSOC_TYPE NEAREST -ASSOCSELEC_TYPE MATCHED -CATALOG_NAME .pysex.cat -PARAMETERS_NAME .pysex.param -FILTER_NAME .pysex.conv -STARNNW_NAME .pysex.nnw\n",
      "sextractor /home/agngur/Dokumenty/survey/2017-04-01/stacked_fields/2457845_095836+171035_P1_5.fit,/home/agngur/Dokumenty/survey/2017-04-01/stacked_fields/2457845_095836+171035_P2_5.fit -c .pysex.sex -VERBOSE_TYPE QUIET -BACKPHOTO_TYPE GLOBAL -DETECT_THRESH 100 -ANALYSIS_THRESH 150 -GAIN 1.0 -CLEAN Y -SATUR_LEVEL 60000.0 -ASSOC_DATA 1,2,3 -ASSOC_TYPE NEAREST -ASSOCSELEC_TYPE MATCHED -CATALOG_NAME .pysex.cat -PARAMETERS_NAME .pysex.param -FILTER_NAME .pysex.conv -STARNNW_NAME .pysex.nnw\n",
      "sextractor /home/agngur/Dokumenty/survey/2017-04-01/stacked_fields/2457845_095836+171035_P1_5.fit,/home/agngur/Dokumenty/survey/2017-04-01/stacked_fields/2457845_095836+171035_P3_5.fit -c .pysex.sex -VERBOSE_TYPE QUIET -BACKPHOTO_TYPE GLOBAL -DETECT_THRESH 100 -ANALYSIS_THRESH 150 -GAIN 1.0 -CLEAN Y -SATUR_LEVEL 60000.0 -ASSOC_DATA 1,2,3 -ASSOC_TYPE NEAREST -ASSOCSELEC_TYPE MATCHED -CATALOG_NAME .pysex.cat -PARAMETERS_NAME .pysex.param -FILTER_NAME .pysex.conv -STARNNW_NAME .pysex.nnw\n",
      "sextractor /home/agngur/Dokumenty/survey/2017-04-01/stacked_fields/2457845_095836+171035_P1_5.fit,/home/agngur/Dokumenty/survey/2017-04-01/stacked_fields/2457845_095836+171035_P4_5.fit -c .pysex.sex -VERBOSE_TYPE QUIET -BACKPHOTO_TYPE GLOBAL -DETECT_THRESH 100 -ANALYSIS_THRESH 150 -GAIN 1.0 -CLEAN Y -SATUR_LEVEL 60000.0 -ASSOC_DATA 1,2,3 -ASSOC_TYPE NEAREST -ASSOCSELEC_TYPE MATCHED -CATALOG_NAME .pysex.cat -PARAMETERS_NAME .pysex.param -FILTER_NAME .pysex.conv -STARNNW_NAME .pysex.nnw\n",
      "sextractor /home/agngur/Dokumenty/survey/2017-04-01/stacked_fields/2457845_095849+172409_P1_5.fit,/home/agngur/Dokumenty/survey/2017-04-01/stacked_fields/2457845_095849+172409_P1_5.fit -c .pysex.sex -VERBOSE_TYPE QUIET -BACKPHOTO_TYPE GLOBAL -DETECT_THRESH 100 -ANALYSIS_THRESH 150 -GAIN 1.0 -CLEAN Y -SATUR_LEVEL 60000.0 -ASSOC_DATA 1,2,3 -ASSOC_TYPE NEAREST -ASSOCSELEC_TYPE MATCHED -CATALOG_NAME .pysex.cat -PARAMETERS_NAME .pysex.param -FILTER_NAME .pysex.conv -STARNNW_NAME .pysex.nnw\n",
      "sextractor /home/agngur/Dokumenty/survey/2017-04-01/stacked_fields/2457845_095849+172409_P1_5.fit,/home/agngur/Dokumenty/survey/2017-04-01/stacked_fields/2457845_095849+172409_P2_5.fit -c .pysex.sex -VERBOSE_TYPE QUIET -BACKPHOTO_TYPE GLOBAL -DETECT_THRESH 100 -ANALYSIS_THRESH 150 -GAIN 1.0 -CLEAN Y -SATUR_LEVEL 60000.0 -ASSOC_DATA 1,2,3 -ASSOC_TYPE NEAREST -ASSOCSELEC_TYPE MATCHED -CATALOG_NAME .pysex.cat -PARAMETERS_NAME .pysex.param -FILTER_NAME .pysex.conv -STARNNW_NAME .pysex.nnw\n",
      "sextractor /home/agngur/Dokumenty/survey/2017-04-01/stacked_fields/2457845_095849+172409_P1_5.fit,/home/agngur/Dokumenty/survey/2017-04-01/stacked_fields/2457845_095849+172409_P3_5.fit -c .pysex.sex -VERBOSE_TYPE QUIET -BACKPHOTO_TYPE GLOBAL -DETECT_THRESH 100 -ANALYSIS_THRESH 150 -GAIN 1.0 -CLEAN Y -SATUR_LEVEL 60000.0 -ASSOC_DATA 1,2,3 -ASSOC_TYPE NEAREST -ASSOCSELEC_TYPE MATCHED -CATALOG_NAME .pysex.cat -PARAMETERS_NAME .pysex.param -FILTER_NAME .pysex.conv -STARNNW_NAME .pysex.nnw\n",
      "sextractor /home/agngur/Dokumenty/survey/2017-04-01/stacked_fields/2457845_095849+172409_P1_5.fit,/home/agngur/Dokumenty/survey/2017-04-01/stacked_fields/2457845_095849+172409_P4_5.fit -c .pysex.sex -VERBOSE_TYPE QUIET -BACKPHOTO_TYPE GLOBAL -DETECT_THRESH 100 -ANALYSIS_THRESH 150 -GAIN 1.0 -CLEAN Y -SATUR_LEVEL 60000.0 -ASSOC_DATA 1,2,3 -ASSOC_TYPE NEAREST -ASSOCSELEC_TYPE MATCHED -CATALOG_NAME .pysex.cat -PARAMETERS_NAME .pysex.param -FILTER_NAME .pysex.conv -STARNNW_NAME .pysex.nnw\n",
      "sextractor /home/agngur/Dokumenty/survey/2017-04-01/stacked_fields/2457845_103538+163704_P1_5.fit,/home/agngur/Dokumenty/survey/2017-04-01/stacked_fields/2457845_103538+163704_P1_5.fit -c .pysex.sex -VERBOSE_TYPE QUIET -BACKPHOTO_TYPE GLOBAL -DETECT_THRESH 100 -ANALYSIS_THRESH 150 -GAIN 1.0 -CLEAN Y -SATUR_LEVEL 60000.0 -ASSOC_DATA 1,2,3 -ASSOC_TYPE NEAREST -ASSOCSELEC_TYPE MATCHED -CATALOG_NAME .pysex.cat -PARAMETERS_NAME .pysex.param -FILTER_NAME .pysex.conv -STARNNW_NAME .pysex.nnw\n",
      "sextractor /home/agngur/Dokumenty/survey/2017-04-01/stacked_fields/2457845_103538+163704_P1_5.fit,/home/agngur/Dokumenty/survey/2017-04-01/stacked_fields/2457845_103538+163704_P2_5.fit -c .pysex.sex -VERBOSE_TYPE QUIET -BACKPHOTO_TYPE GLOBAL -DETECT_THRESH 100 -ANALYSIS_THRESH 150 -GAIN 1.0 -CLEAN Y -SATUR_LEVEL 60000.0 -ASSOC_DATA 1,2,3 -ASSOC_TYPE NEAREST -ASSOCSELEC_TYPE MATCHED -CATALOG_NAME .pysex.cat -PARAMETERS_NAME .pysex.param -FILTER_NAME .pysex.conv -STARNNW_NAME .pysex.nnw\n",
      "sextractor /home/agngur/Dokumenty/survey/2017-04-01/stacked_fields/2457845_103538+163704_P1_5.fit,/home/agngur/Dokumenty/survey/2017-04-01/stacked_fields/2457845_103538+163704_P3_5.fit -c .pysex.sex -VERBOSE_TYPE QUIET -BACKPHOTO_TYPE GLOBAL -DETECT_THRESH 100 -ANALYSIS_THRESH 150 -GAIN 1.0 -CLEAN Y -SATUR_LEVEL 60000.0 -ASSOC_DATA 1,2,3 -ASSOC_TYPE NEAREST -ASSOCSELEC_TYPE MATCHED -CATALOG_NAME .pysex.cat -PARAMETERS_NAME .pysex.param -FILTER_NAME .pysex.conv -STARNNW_NAME .pysex.nnw\n",
      "sextractor /home/agngur/Dokumenty/survey/2017-04-01/stacked_fields/2457845_103538+163704_P1_5.fit,/home/agngur/Dokumenty/survey/2017-04-01/stacked_fields/2457845_103538+163704_P4_5.fit -c .pysex.sex -VERBOSE_TYPE QUIET -BACKPHOTO_TYPE GLOBAL -DETECT_THRESH 100 -ANALYSIS_THRESH 150 -GAIN 1.0 -CLEAN Y -SATUR_LEVEL 60000.0 -ASSOC_DATA 1,2,3 -ASSOC_TYPE NEAREST -ASSOCSELEC_TYPE MATCHED -CATALOG_NAME .pysex.cat -PARAMETERS_NAME .pysex.param -FILTER_NAME .pysex.conv -STARNNW_NAME .pysex.nnw\n"
     ]
    }
   ],
   "source": [
    "work_dir='/home/pi/DATA/astro/dane_malykluk/'\n",
    "make_photometry(work_dir, exps=[5], DETECT_THRESH=100, ANALYSIS_THRESH=150)"
   ]
  },
  {
   "cell_type": "code",
   "execution_count": 6,
   "metadata": {
    "collapsed": false
   },
   "outputs": [],
   "source": [
    "import os \n",
    "\n",
    "try:\n",
    "    #os.mkdir(work_dir+'ftmt_'+DETECT_THRESH)\n",
    "    os.mkdir(work_dir+'ftmt_'+'100')\n",
    "except FileExistsError:\n",
    "    pass\n",
    "\n",
    "for f in files: \n",
    "    os.rename(work_dir[:-1], work_dir[:-1]+'ftmt_'+'100')"
   ]
  },
  {
   "cell_type": "code",
   "execution_count": null,
   "metadata": {
    "collapsed": true
   },
   "outputs": [],
   "source": []
  }
 ],
 "metadata": {
  "anaconda-cloud": {},
  "kernelspec": {
   "display_name": "Python [default]",
   "language": "python",
   "name": "python3"
  },
  "language_info": {
   "codemirror_mode": {
    "name": "ipython",
    "version": 3
   },
   "file_extension": ".py",
   "mimetype": "text/x-python",
   "name": "python",
   "nbconvert_exporter": "python",
   "pygments_lexer": "ipython3",
   "version": "3.6.1"
  }
 },
 "nbformat": 4,
 "nbformat_minor": 2
}
