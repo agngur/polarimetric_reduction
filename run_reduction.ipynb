{
 "cells": [
  {
   "cell_type": "code",
   "execution_count": 38,
   "metadata": {
    "collapsed": false
   },
   "outputs": [
    {
     "name": "stdout",
     "output_type": "stream",
     "text": [
      "The autoreload extension is already loaded. To reload it, use:\n",
      "  %reload_ext autoreload\n"
     ]
    }
   ],
   "source": [
    "%load_ext autoreload\n",
    "%autoreload 2\n",
    "import gzip\n",
    "import glob\n",
    "from astropy.io import fits\n",
    "from astropy import units as u\n",
    "from ccdproc import CCDData, Combiner, subtract_bias, subtract_dark, flat_correct\n",
    "import numpy as np\n",
    "import os\n",
    "import ccdproc"
   ]
  },
  {
   "cell_type": "code",
   "execution_count": 39,
   "metadata": {
    "collapsed": false
   },
   "outputs": [],
   "source": [
    "import processimages as pim"
   ]
  },
  {
   "cell_type": "code",
   "execution_count": 40,
   "metadata": {
    "collapsed": false
   },
   "outputs": [],
   "source": [
    "im_dir = '/home/agngur/Dokumenty/survey/2017-09-28/'\n",
    "#im_dir2 = '/home/agngur/Dokumenty/survey/2017-04-09/'\n",
    "\n"
   ]
  },
  {
   "cell_type": "code",
   "execution_count": 43,
   "metadata": {
    "collapsed": false,
    "scrolled": false
   },
   "outputs": [
    {
     "name": "stdout",
     "output_type": "stream",
     "text": [
      "INFO: using the unit adu passed to the FITS reader instead of the unit adu in the FITS file. [ccdproc.ccddata]\n",
      "INFO: using the unit adu passed to the FITS reader instead of the unit adu in the FITS file. [ccdproc.ccddata]\n",
      "INFO: using the unit adu passed to the FITS reader instead of the unit adu in the FITS file. [ccdproc.ccddata]\n"
     ]
    },
    {
     "name": "stderr",
     "output_type": "stream",
     "text": [
      "WARNING: FITSFixedWarning: RADECSYS= 'FK5 ' / Equatorial coordinate system \n",
      "the RADECSYS keyword is deprecated, use RADESYSa. [astropy.wcs.wcs]\n"
     ]
    }
   ],
   "source": [
    "#pim.uint_all(im_dir)\n",
    "#pim.create_MasBias(im_dir)\n",
    "#pim.create_MasDark(im_dir, 5, m_bias_name=im_dir+'MBias.fit')\n",
    "#pim.create_MasFlat(im_dir, 5, m_dark_name=im_dir+'MDark5.fit', m_bias_name=im_dir+'MBias.fit')  \n",
    "\n",
    "pim.reduction_data(im_dir, 5, 5, m_dark_name=im_dir+'MDark5.fit', m_flat_name=im_dir+'MFlat.fit', \n",
    "                   m_bias_name=im_dir+'MBias.fit')"
   ]
  },
  {
   "cell_type": "code",
   "execution_count": 44,
   "metadata": {
    "collapsed": true
   },
   "outputs": [],
   "source": [
    "files = glob.glob(im_dir+'*_red.fit')\n",
    "for file in files:\n",
    "    f=fits.open(file, mode='update')\n",
    "    f[0].data = f[0].data+1000\n",
    "    f.flush()\n",
    "    f.close()"
   ]
  },
  {
   "cell_type": "code",
   "execution_count": null,
   "metadata": {},
   "outputs": [],
   "source": []
  },
  {
   "cell_type": "code",
   "execution_count": null,
   "metadata": {},
   "outputs": [],
   "source": [
    "pim.uint_all('/home/agngur/Dokumenty/survey/2017-03-28/')"
   ]
  },
  {
   "cell_type": "code",
   "execution_count": null,
   "metadata": {},
   "outputs": [],
   "source": []
  }
 ],
 "metadata": {
  "anaconda-cloud": {},
  "kernelspec": {
   "display_name": "Python [conda env:ag]",
   "language": "python",
   "name": "conda-env-ag-py"
  },
  "language_info": {
   "codemirror_mode": {
    "name": "ipython",
    "version": 3
   },
   "file_extension": ".py",
   "mimetype": "text/x-python",
   "name": "python",
   "nbconvert_exporter": "python",
   "pygments_lexer": "ipython3",
   "version": "3.6.0"
  }
 },
 "nbformat": 4,
 "nbformat_minor": 2
}
